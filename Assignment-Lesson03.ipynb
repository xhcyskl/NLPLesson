{
 "cells": [
  {
   "cell_type": "markdown",
   "metadata": {},
   "source": [
    "## 1、change loss function from $loss = \\frac{1}{n}\\sum{(y_i - \\hat(y_i))^2}$ to $loss = \\frac{1}{n}\\sum{|y_i - \\hat{y_i}|}$, and using your mathmatical knowledge to get the right partial formual. Implemen the gradient descent code."
   ]
  },
  {
   "cell_type": "code",
   "execution_count": 153,
   "metadata": {},
   "outputs": [],
   "source": [
    "from sklearn.datasets import load_boston\n",
    "%matplotlib inline\n",
    "from matplotlib import pyplot as plt"
   ]
  },
  {
   "cell_type": "code",
   "execution_count": 150,
   "metadata": {},
   "outputs": [],
   "source": [
    "data = load_boston()"
   ]
  },
  {
   "cell_type": "code",
   "execution_count": 151,
   "metadata": {},
   "outputs": [],
   "source": [
    "x,y = data['data'],data['target']"
   ]
  },
  {
   "cell_type": "code",
   "execution_count": 154,
   "metadata": {},
   "outputs": [
    {
     "data": {
      "text/plain": [
       "<matplotlib.collections.PathCollection at 0x1ecedddeda0>"
      ]
     },
     "execution_count": 154,
     "metadata": {},
     "output_type": "execute_result"
    },
    {
     "data": {
      "image/png": "[encoded data removed]",
      "text/plain": [
       "<Figure size 432x288 with 1 Axes>"
      ]
     },
     "metadata": {
      "needs_background": "light"
     },
     "output_type": "display_data"
    }
   ],
   "source": [
    "plt.scatter(x[:,5],y)"
   ]
  },
  {
   "cell_type": "code",
   "execution_count": 164,
   "metadata": {},
   "outputs": [],
   "source": [
    "def price(rm,k,b):\n",
    "    return k * rm +b"
   ]
  },
  {
   "cell_type": "markdown",
   "metadata": {},
   "source": [
    "$$ loss = \\frac{1}{n}\\sum{|y_i-\\hat{y_i}|} $$\n",
    "$$ loss = \\frac{1}{n}\\sum{|y_i-(kx_i+b_i)|} $$\n",
    "$$ \\frac{\\partial{loss}}{\\partial{k}}= -\\frac{1}{n}\\sum{\\frac{y_i-\\hat{y_i}}{|y_i-\\hat{y_i}|}x_i}  ,  y_i\\neq\\hat{y_i} $$\n",
    "$$ \\frac{\\partial{loss}}{\\partial{b}}= -\\frac{1}{n}\\sum{\\frac{y_i-\\hat{y_i}}{|y_i-\\hat{y_i}|}}  ,  y_i\\neq\\hat{y_i} $$"
   ]
  },
  {
   "cell_type": "code",
   "execution_count": 155,
   "metadata": {},
   "outputs": [],
   "source": [
    "import math"
   ]
  },
  {
   "cell_type": "code",
   "execution_count": 156,
   "metadata": {},
   "outputs": [],
   "source": [
    "def loss(y,y_hat):\n",
    "    return sum(abs(y_i - y_hat_i) for y_i,y_hat_i in zip(list(y),list(y_hat))) / len(list(y))"
   ]
  },
  {
   "cell_type": "code",
   "execution_count": 159,
   "metadata": {},
   "outputs": [
    {
     "data": {
      "text/plain": [
       "3.6666666666666665"
      ]
     },
     "execution_count": 159,
     "metadata": {},
     "output_type": "execute_result"
    }
   ],
   "source": [
    "loss([1,2,3],[4,5,8])"
   ]
  },
  {
   "cell_type": "code",
   "execution_count": 167,
   "metadata": {},
   "outputs": [],
   "source": [
    "def partial_k(x,y,y_hat):\n",
    "    n = len(y)\n",
    "    return (-1/n)*sum([ ((y_i-y_hat_i)/abs(y_i-y_hat_i))*x_i for x_i,y_i,y_hat_i in zip(list(x),list(y),list(y_hat)) if y_i != y_hat_i])"
   ]
  },
  {
   "cell_type": "code",
   "execution_count": 168,
   "metadata": {},
   "outputs": [],
   "source": [
    "def partial_b(y,y_hat):\n",
    "    n = len(y)\n",
    "    return (-1/n)*sum([ ((y_i-y_hat_i)/abs(y_i-y_hat_i)) for y_i,y_hat_i in zip(list(y),list(y_hat)) if y_i != y_hat_i])"
   ]
  },
  {
   "cell_type": "code",
   "execution_count": 171,
   "metadata": {},
   "outputs": [
    {
     "name": "stdout",
     "output_type": "stream",
     "text": [
      "When time is : 0, get best_k: 27.23586509080043 best_b: -9.485358376703388, and the loss is: 139.1492896181043\n",
      "When time is : 50, get best_k: 24.093547897124594 best_b: -10.485358376703367, and the loss is: 118.40097492676234\n",
      "When time is : 100, get best_k: 20.951230703448758 best_b: -11.485358376703346, and the loss is: 97.65266023542036\n",
      "When time is : 150, get best_k: 17.80891350977292 best_b: -12.485358376703324, and the loss is: 76.90434554407857\n",
      "When time is : 200, get best_k: 14.666596316097046 best_b: -13.485358376703303, and the loss is: 56.15603085273645\n",
      "When time is : 250, get best_k: 11.528826671828263 best_b: -14.483461143501716, and the loss is: 35.47026621021357\n",
      "When time is : 300, get best_k: 8.434600110563425 best_b: -15.464963119786287, and the loss is: 15.362727877864906\n",
      "When time is : 350, get best_k: 6.324950426768958 best_b: -16.15966667709854, and the loss is: 4.931722147254275\n",
      "When time is : 400, get best_k: 6.160430901077257 best_b: -16.243144937968104, and the loss is: 4.810592559129245\n",
      "When time is : 450, get best_k: 6.164375090800567 best_b: -16.271840590142066, and the loss is: 4.8097227032999035\n",
      "When time is : 500, get best_k: 6.16899908289542 best_b: -16.30029908816582, and the loss is: 4.808871654257441\n",
      "When time is : 550, get best_k: 6.173768569061426 best_b: -16.328678534806123, and the loss is: 4.808022746743493\n",
      "When time is : 600, get best_k: 6.178937897124672 best_b: -16.356899878679645, and the loss is: 4.807171600869537\n",
      "When time is : 650, get best_k: 6.1835729168875275 best_b: -16.385279325320006, and the loss is: 4.806322041411944\n",
      "When time is : 700, get best_k: 6.18842386550414 best_b: -16.413579720576976, and the loss is: 4.805474209796933\n",
      "When time is : 750, get best_k: 6.193503549298618 best_b: -16.441801064450548, and the loss is: 4.804625524805467\n",
      "When time is : 800, get best_k: 6.198016039417206 best_b: -16.470180511090916, and the loss is: 4.803780012652627\n",
      "When time is : 850, get best_k: 6.202307264713659 best_b: -16.49855995773127, and the loss is: 4.802941559792358\n",
      "When time is : 900, get best_k: 6.207185407006147 best_b: -16.526544147454615, and the loss is: 4.802106818872673\n",
      "When time is : 950, get best_k: 6.211874300286773 best_b: -16.55452833717799, and the loss is: 4.801279753736708\n",
      "When time is : 1000, get best_k: 6.216563193567399 best_b: -16.58251252690137, and the loss is: 4.8004526958688345\n",
      "When time is : 1050, get best_k: 6.221252086848025 best_b: -16.610496716624745, and the loss is: 4.7996256380009505\n",
      "When time is : 1100, get best_k: 6.225940980128652 best_b: -16.63848090634812, and the loss is: 4.7987985801330675\n",
      "When time is : 1150, get best_k: 6.230629873409278 best_b: -16.666465096071498, and the loss is: 4.797971522265189\n",
      "When time is : 1200, get best_k: 6.235318766689904 best_b: -16.694449285794875, and the loss is: 4.797144464397311\n",
      "When time is : 1250, get best_k: 6.239686948508079 best_b: -16.72251252690165, and the loss is: 4.796318830193133\n",
      "When time is : 1300, get best_k: 6.244055130326254 best_b: -16.750575768008424, and the loss is: 4.7954931959889615\n",
      "When time is : 1350, get best_k: 6.248423312144429 best_b: -16.7786390091152, and the loss is: 4.794667561784783\n",
      "When time is : 1400, get best_k: 6.252791493962604 best_b: -16.806702250221974, and the loss is: 4.793841927580609\n",
      "When time is : 1450, get best_k: 6.257411928745206 best_b: -16.83468643994535, and the loss is: 4.793016100911694\n",
      "When time is : 1500, get best_k: 6.2617801105633815 best_b: -16.862749681052126, and the loss is: 4.792190006275472\n",
      "When time is : 1550, get best_k: 6.266148292381557 best_b: -16.8908129221589, and the loss is: 4.791364372071294\n",
      "When time is : 1600, get best_k: 6.270516474199732 best_b: -16.918876163265676, and the loss is: 4.790538737867124\n",
      "When time is : 1650, get best_k: 6.274884656017907 best_b: -16.94693940437245, and the loss is: 4.78971310366295\n",
      "When time is : 1700, get best_k: 6.279252837836082 best_b: -16.975002645479226, and the loss is: 4.78888746945877\n",
      "When time is : 1750, get best_k: 6.283621019654257 best_b: -17.003065886586, and the loss is: 4.788061835254593\n",
      "When time is : 1800, get best_k: 6.287604853646348 best_b: -17.031208179076174, and the loss is: 4.787238341189158\n",
      "When time is : 1850, get best_k: 6.2918629564131425 best_b: -17.05927142018295, and the loss is: 4.78641394635327\n",
      "When time is : 1900, get best_k: 6.295846790405234 best_b: -17.087413712673122, and the loss is: 4.785590452287818\n",
      "When time is : 1950, get best_k: 6.3000543793380315 best_b: -17.114449285795683, and the loss is: 4.784826721948932\n",
      "When time is : 2000, get best_k: 6.3038601896147 best_b: -17.14148485891825, and the loss is: 4.784066434794237\n",
      "When time is : 2050, get best_k: 6.307665999891369 best_b: -17.16852043204082, and the loss is: 4.783306147639532\n",
      "When time is : 2100, get best_k: 6.311471810168038 best_b: -17.195556005163386, and the loss is: 4.782546860937043\n",
      "When time is : 2150, get best_k: 6.31555188921941 best_b: -17.222512526902552, and the loss is: 4.7817868764664935\n",
      "When time is : 2200, get best_k: 6.319357699496079 best_b: -17.24954810002512, and the loss is: 4.781026589311804\n",
      "When time is : 2250, get best_k: 6.323407146136384 best_b: -17.27650462176429, and the loss is: 4.780267704031526\n",
      "When time is : 2300, get best_k: 6.327698806215425 best_b: -17.30330304073665, and the loss is: 4.779512412404644\n",
      "When time is : 2350, get best_k: 6.3319904662944655 best_b: -17.330101459709013, and the loss is: 4.778757120777764\n",
      "When time is : 2400, get best_k: 6.336282126373506 best_b: -17.356899878681375, and the loss is: 4.778002053861217\n",
      "When time is : 2450, get best_k: 6.340817422816183 best_b: -17.383619246270335, and the loss is: 4.7772479393984195\n",
      "When time is : 2500, get best_k: 6.345109082895224 best_b: -17.410417665242697, and the loss is: 4.776492647771545\n",
      "When time is : 2550, get best_k: 6.3494007429742645 best_b: -17.43721608421506, and the loss is: 4.775737356144655\n",
      "When time is : 2600, get best_k: 6.353780505820109 best_b: -17.463935451804, and the loss is: 4.7749886825258\n",
      "When time is : 2650, get best_k: 6.3575329168873 best_b: -17.490575768009545, and the loss is: 4.774248142038747\n",
      "When time is : 2700, get best_k: 6.361435644160022 best_b: -17.5171370328317, and the loss is: 4.7735128057482985\n",
      "When time is : 2750, get best_k: 6.36506362834974 best_b: -17.54377734903726, and the loss is: 4.772776183050234\n",
      "When time is : 2800, get best_k: 6.369744102658037 best_b: -17.569785254175606, and the loss is: 4.772055356192811\n",
      "When time is : 2850, get best_k: 6.374958292381353 best_b: -17.59539790239694, and the loss is: 4.771345961944223\n",
      "When time is : 2900, get best_k: 6.379222086847752 best_b: -17.621010550618266, and the loss is: 4.770653468796984\n",
      "When time is : 2950, get best_k: 6.38335011056316 best_b: -17.6466231988396, and the loss is: 4.769963035599075\n",
      "When time is : 3000, get best_k: 6.387478134278568 best_b: -17.672235847060932, and the loss is: 4.7692726024011725\n",
      "When time is : 3050, get best_k: 6.391606157993976 best_b: -17.697848495282265, and the loss is: 4.768582169203254\n",
      "When time is : 3100, get best_k: 6.395734181709384 best_b: -17.7234611435036, and the loss is: 4.767892351212648\n",
      "When time is : 3150, get best_k: 6.399862205424792 best_b: -17.749073791724932, and the loss is: 4.767202580109754\n",
      "When time is : 3200, get best_k: 6.4039902291401996 best_b: -17.774686439946265, and the loss is: 4.766512809006863\n",
      "When time is : 3250, get best_k: 6.4081182528556075 best_b: -17.8002990881676, and the loss is: 4.765823037903978\n",
      "When time is : 3300, get best_k: 6.412489912934652 best_b: -17.82583268500553, and the loss is: 4.765133265584002\n",
      "When time is : 3350, get best_k: 6.41661793665006 best_b: -17.851445333226863, and the loss is: 4.76444283238609\n",
      "When time is : 3400, get best_k: 6.420728727163888 best_b: -17.87705798144819, and the loss is: 4.763752452604954\n",
      "When time is : 3450, get best_k: 6.424736118468233 best_b: -17.902670629669494, and the loss is: 4.763063718039581\n",
      "When time is : 3500, get best_k: 6.428665960365466 best_b: -17.928283277890824, and the loss is: 4.762377900781467\n",
      "When time is : 3550, get best_k: 6.432839438626336 best_b: -17.953816874728755, and the loss is: 4.761691328489114\n"
     ]
    },
    {
     "name": "stdout",
     "output_type": "stream",
     "text": [
      "When time is : 3600, get best_k: 6.436760663922779 best_b: -17.97942952295009, and the loss is: 4.761003452217981\n",
      "When time is : 3650, get best_k: 6.4406818892192215 best_b: -18.00504217117142, and the loss is: 4.760317806866152\n",
      "When time is : 3700, get best_k: 6.444855367480091 best_b: -18.030575768009353, and the loss is: 4.759630945106074\n",
      "When time is : 3750, get best_k: 6.448776592776534 best_b: -18.056188416230686, and the loss is: 4.758943358302678\n",
      "When time is : 3800, get best_k: 6.452697818072977 best_b: -18.08180106445202, and the loss is: 4.758257712950847\n",
      "When time is : 3850, get best_k: 6.456871296333847 best_b: -18.10733466128995, and the loss is: 4.757570561723034\n",
      "When time is : 3900, get best_k: 6.46079252163029 best_b: -18.132947309511284, and the loss is: 4.756883264387367\n",
      "When time is : 3950, get best_k: 6.464713746926733 best_b: -18.158559957732617, and the loss is: 4.756197619035541\n",
      "When time is : 4000, get best_k: 6.468887225187602 best_b: -18.18409355457055, and the loss is: 4.75551017834\n",
      "When time is : 4050, get best_k: 6.472808450484045 best_b: -18.20970620279188, and the loss is: 4.754823170472058\n",
      "When time is : 4100, get best_k: 6.476729675780488 best_b: -18.235318851013215, and the loss is: 4.754137525120235\n",
      "When time is : 4150, get best_k: 6.480903154041358 best_b: -18.260852447851146, and the loss is: 4.753449794956966\n",
      "When time is : 4200, get best_k: 6.484824379337801 best_b: -18.28646509607248, and the loss is: 4.752763076556754\n",
      "When time is : 4250, get best_k: 6.488997857598671 best_b: -18.31199869291041, and the loss is: 4.752077378618942\n",
      "When time is : 4300, get best_k: 6.4929190828951135 best_b: -18.337611341131744, and the loss is: 4.751389411573923\n",
      "When time is : 4350, get best_k: 6.4968403081915564 best_b: -18.363223989353077, and the loss is: 4.750702982641442\n",
      "When time is : 4400, get best_k: 6.501013786452426 best_b: -18.38875758619101, and the loss is: 4.7500169952359\n",
      "When time is : 4450, get best_k: 6.504935011748869 best_b: -18.414370234412342, and the loss is: 4.74932902819088\n",
      "When time is : 4500, get best_k: 6.508856237045312 best_b: -18.439982882633675, and the loss is: 4.748642888726133\n",
      "When time is : 4550, get best_k: 6.513029715306182 best_b: -18.465516479471606, and the loss is: 4.747956611852862\n",
      "When time is : 4600, get best_k: 6.516950940602625 best_b: -18.49112912769294, and the loss is: 4.747268644807836\n",
      "When time is : 4650, get best_k: 6.520872165899068 best_b: -18.516741775914273, and the loss is: 4.746582794810824\n",
      "When time is : 4700, get best_k: 6.525045644159937 best_b: -18.542275372752204, and the loss is: 4.745896228469827\n",
      "When time is : 4750, get best_k: 6.52896686945638 best_b: -18.567888020973538, and the loss is: 4.745208346247341\n",
      "When time is : 4800, get best_k: 6.532888094752823 best_b: -18.59350066919487, and the loss is: 4.744522700895514\n",
      "When time is : 4850, get best_k: 6.537061573013693 best_b: -18.619034266032802, and the loss is: 4.743835845086787\n",
      "When time is : 4900, get best_k: 6.540982798310136 best_b: -18.644646914254135, and the loss is: 4.743148252332038\n",
      "When time is : 4950, get best_k: 6.544904023606579 best_b: -18.67025956247547, and the loss is: 4.742462606980208\n",
      "When time is : 5000, get best_k: 6.5490775018674485 best_b: -18.6957931593134, and the loss is: 4.74177546170375\n",
      "When time is : 5050, get best_k: 6.552998727163891 best_b: -18.721405807534733, and the loss is: 4.74108815841673\n",
      "When time is : 5100, get best_k: 6.556919952460334 best_b: -18.747018455756066, and the loss is: 4.740402513064905\n",
      "When time is : 5150, get best_k: 6.561093430721204 best_b: -18.772552052593998, and the loss is: 4.739715078320707\n",
      "When time is : 5200, get best_k: 6.565014656017647 best_b: -18.79816470081533, and the loss is: 4.73902806450142\n",
      "When time is : 5250, get best_k: 6.56893588131409 best_b: -18.823777349036664, and the loss is: 4.738342419149594\n",
      "When time is : 5300, get best_k: 6.57310935957496 best_b: -18.849310945874596, and the loss is: 4.737654694937666\n",
      "When time is : 5350, get best_k: 6.577030584871403 best_b: -18.87492359409593, and the loss is: 4.7369679705861065\n",
      "When time is : 5400, get best_k: 6.581204063132272 best_b: -18.90045719093386, and the loss is: 4.7362822785996554\n",
      "When time is : 5450, get best_k: 6.585125288428715 best_b: -18.926069839155193, and the loss is: 4.735594311554631\n",
      "When time is : 5500, get best_k: 6.589046513725158 best_b: -18.951682487376527, and the loss is: 4.734907876670807\n",
      "When time is : 5550, get best_k: 6.593429082895119 best_b: -18.977137032831063, and the loss is: 4.734225185301609\n",
      "When time is : 5600, get best_k: 6.597336869456383 best_b: -19.002591578285607, and the loss is: 4.733543630879166\n",
      "When time is : 5650, get best_k: 6.601619675780492 best_b: -19.027888020973332, and the loss is: 4.7328675134530975\n",
      "When time is : 5700, get best_k: 6.606133154041361 best_b: -19.053105412277656, and the loss is: 4.732190303589427\n",
      "When time is : 5750, get best_k: 6.61041596036547 best_b: -19.07840185496538, and the loss is: 4.731513049109184\n",
      "When time is : 5800, get best_k: 6.61469876668958 best_b: -19.103698297653107, and the loss is: 4.730836931683116\n",
      "When time is : 5850, get best_k: 6.61898157301369 best_b: -19.128994740340833, and the loss is: 4.730160814257051\n",
      "When time is : 5900, get best_k: 6.623495051274558 best_b: -19.154212131645156, and the loss is: 4.729484463337586\n",
      "When time is : 5950, get best_k: 6.627777857598668 best_b: -19.179508574332882, and the loss is: 4.728807152294997\n",
      "When time is : 6000, get best_k: 6.632060663922777 best_b: -19.204805017020607, and the loss is: 4.728130232487065\n",
      "When time is : 6050, get best_k: 6.636343470246887 best_b: -19.230101459708333, and the loss is: 4.727454115061004\n",
      "When time is : 6100, get best_k: 6.6406262765709965 best_b: -19.25539790239606, and the loss is: 4.726777997634934\n",
      "When time is : 6150, get best_k: 6.645139754831865 best_b: -19.280615293700382, and the loss is: 4.726101312043166\n",
      "When time is : 6200, get best_k: 6.6494225611559745 best_b: -19.305911736388108, and the loss is: 4.725424001000576\n",
      "When time is : 6250, get best_k: 6.653705367480084 best_b: -19.331208179075833, and the loss is: 4.724747415864953\n",
      "When time is : 6300, get best_k: 6.657988173804194 best_b: -19.35650462176356, and the loss is: 4.724071298438892\n",
      "When time is : 6350, get best_k: 6.662270980128303 best_b: -19.381801064451285, and the loss is: 4.723395181012828\n",
      "When time is : 6400, get best_k: 6.666763114515654 best_b: -19.407018455755605, and the loss is: 4.722719088333709\n",
      "When time is : 6450, get best_k: 6.670661731116449 best_b: -19.432314898443323, and the loss is: 4.722047932121421\n",
      "When time is : 6500, get best_k: 6.674517659970209 best_b: -19.45761134113105, and the loss is: 4.721379409908528\n",
      "When time is : 6550, get best_k: 6.678625604634245 best_b: -19.482828732435372, and the loss is: 4.72070862675431\n",
      "When time is : 6600, get best_k: 6.682481533488005 best_b: -19.508125175123098, and the loss is: 4.720039756230293\n",
      "When time is : 6650, get best_k: 6.686589478152041 best_b: -19.53334256642742, and the loss is: 4.719370015856929\n",
      "When time is : 6700, get best_k: 6.690445407005801 best_b: -19.558639009115147, and the loss is: 4.718700102552067\n",
      "When time is : 6750, get best_k: 6.694553351669837 best_b: -19.58385640041947, and the loss is: 4.718031404959559\n",
      "When time is : 6800, get best_k: 6.698409280523597 best_b: -19.609152843107196, and the loss is: 4.7173604488738325\n",
      "When time is : 6850, get best_k: 6.702265209377357 best_b: -19.634449285794922, and the loss is: 4.716691926660943\n",
      "When time is : 6900, get best_k: 6.706373154041393 best_b: -19.659666677099246, and the loss is: 4.716021461413266\n",
      "When time is : 6950, get best_k: 6.710229082895153 best_b: -19.68496311978697, and the loss is: 4.715352272982707\n",
      "When time is : 7000, get best_k: 6.714337027559189 best_b: -19.710180511091295, and the loss is: 4.714682850515891\n",
      "When time is : 7050, get best_k: 6.718192956412949 best_b: -19.73547695377902, and the loss is: 4.714012619304477\n",
      "When time is : 7100, get best_k: 6.722048885266709 best_b: -19.760773396466746, and the loss is: 4.713344097091591\n",
      "When time is : 7150, get best_k: 6.726156829930745 best_b: -19.78599078777107, and the loss is: 4.712672965626251\n"
     ]
    },
    {
     "name": "stdout",
     "output_type": "stream",
     "text": [
      "When time is : 7200, get best_k: 6.730012758784505 best_b: -19.811287230458795, and the loss is: 4.712004443413352\n",
      "When time is : 7250, get best_k: 6.734120703448541 best_b: -19.83650462176312, and the loss is: 4.711334296072218\n",
      "When time is : 7300, get best_k: 6.737976632302301 best_b: -19.861801064450844, and the loss is: 4.710664789735124\n",
      "When time is : 7350, get best_k: 6.742084576966337 best_b: -19.887018455755168, and the loss is: 4.709995685174849\n",
      "When time is : 7400, get best_k: 6.745940505820097 best_b: -19.912314898442894, and the loss is: 4.709325136056893\n",
      "When time is : 7450, get best_k: 6.749796434673857 best_b: -19.93761134113062, and the loss is: 4.708656613844003\n",
      "When time is : 7500, get best_k: 6.753904379337893 best_b: -19.962828732434943, and the loss is: 4.707985741628551\n",
      "When time is : 7550, get best_k: 6.757760308191653 best_b: -19.98812517512267, and the loss is: 4.707316960165767\n",
      "When time is : 7600, get best_k: 6.761868252855689 best_b: -20.013342566426992, and the loss is: 4.706647130731186\n",
      "When time is : 7650, get best_k: 6.765724181709449 best_b: -20.038639009114718, and the loss is: 4.705977306487536\n",
      "When time is : 7700, get best_k: 6.769832126373485 best_b: -20.06385640041904, and the loss is: 4.705308519833812\n",
      "When time is : 7750, get best_k: 6.773688055227245 best_b: -20.089152843106767, and the loss is: 4.704637652809302\n",
      "When time is : 7800, get best_k: 6.777543984081005 best_b: -20.114449285794493, and the loss is: 4.703969130596412\n",
      "When time is : 7850, get best_k: 6.781651928745041 best_b: -20.139666677098816, and the loss is: 4.703298576287509\n",
      "When time is : 7900, get best_k: 6.785507857598801 best_b: -20.16496311978654, and the loss is: 4.702629476918185\n",
      "When time is : 7950, get best_k: 6.789615802262837 best_b: -20.190180511090865, and the loss is: 4.70195996539014\n",
      "When time is : 8000, get best_k: 6.793471731116597 best_b: -20.21547695377859, and the loss is: 4.70128982323995\n",
      "When time is : 8050, get best_k: 6.797327659970357 best_b: -20.240773396466317, and the loss is: 4.700621301027057\n",
      "When time is : 8100, get best_k: 6.801435604634393 best_b: -20.26599078777064, and the loss is: 4.6999501695617125\n",
      "When time is : 8150, get best_k: 6.805291533488153 best_b: -20.291287230458366, and the loss is: 4.699281647348828\n",
      "When time is : 8200, get best_k: 6.809399478152189 best_b: -20.31650462176269, and the loss is: 4.69861141094647\n",
      "When time is : 8250, get best_k: 6.813255407005949 best_b: -20.341801064450415, and the loss is: 4.697941993670588\n",
      "When time is : 8300, get best_k: 6.817363351669985 best_b: -20.36701845575474, and the loss is: 4.697272800049099\n",
      "When time is : 8350, get best_k: 6.821219280523745 best_b: -20.392314898442464, and the loss is: 4.696602339992361\n",
      "When time is : 8400, get best_k: 6.825075209377505 best_b: -20.41761134113019, and the loss is: 4.695933817779469\n",
      "When time is : 8450, get best_k: 6.829183154041541 best_b: -20.442828732434513, and the loss is: 4.6952628565028025\n",
      "When time is : 8500, get best_k: 6.833039082895301 best_b: -20.46812517512224, and the loss is: 4.694594164101237\n",
      "When time is : 8550, get best_k: 6.837147027559337 best_b: -20.493342566426563, and the loss is: 4.693924245605429\n",
      "When time is : 8600, get best_k: 6.841002956413097 best_b: -20.51863900911429, and the loss is: 4.693254510423012\n",
      "When time is : 8650, get best_k: 6.845110901077133 best_b: -20.543856400418612, and the loss is: 4.6925856347080614\n",
      "When time is : 8700, get best_k: 6.848966829930893 best_b: -20.569152843106338, and the loss is: 4.691914856744775\n",
      "When time is : 8750, get best_k: 6.852822758784653 best_b: -20.594449285794063, and the loss is: 4.691246334531884\n",
      "When time is : 8800, get best_k: 6.856826948507979 best_b: -20.619666677098405, and the loss is: 4.69057852027699\n",
      "When time is : 8850, get best_k: 6.861130663923009 best_b: -20.644646914252547, and the loss is: 4.689916333713018\n",
      "When time is : 8900, get best_k: 6.8652891224210455 best_b: -20.669627151406665, and the loss is: 4.689258556902187\n",
      "When time is : 8950, get best_k: 6.869678845741216 best_b: -20.69452833717738, and the loss is: 4.688599019948009\n",
      "When time is : 9000, get best_k: 6.873837304239252 best_b: -20.7195085743315, and the loss is: 4.687941243137168\n",
      "When time is : 9050, get best_k: 6.878227027559423 best_b: -20.744409760102215, and the loss is: 4.687282087914797\n",
      "When time is : 9100, get best_k: 6.882385486057459 best_b: -20.769389997256333, and the loss is: 4.6866239293721526\n",
      "When time is : 9150, get best_k: 6.88677520937763 best_b: -20.79429118302705, and the loss is: 4.685965303750146\n",
      "When time is : 9200, get best_k: 6.890933667875666 best_b: -20.819271420181167, and the loss is: 4.685306615607138\n",
      "When time is : 9250, get best_k: 6.895323391195837 best_b: -20.844172605951883, and the loss is: 4.684648519585506\n",
      "When time is : 9300, get best_k: 6.899481849693873 best_b: -20.869152843106, and the loss is: 4.683989301842123\n",
      "When time is : 9350, get best_k: 6.9036403081919095 best_b: -20.89413308026012, and the loss is: 4.68333152503128\n",
      "When time is : 9400, get best_k: 6.90803003151208 best_b: -20.919034266030835, and the loss is: 4.6826719880771055\n",
      "When time is : 9450, get best_k: 6.912166197519999 best_b: -20.944014503184963, and the loss is: 4.682016211158419\n",
      "When time is : 9500, get best_k: 6.916660861551635 best_b: -20.968836637572334, and the loss is: 4.681357408387246\n",
      "When time is : 9550, get best_k: 6.920857383290769 best_b: -20.993737823343082, and the loss is: 4.680703181278044\n",
      "When time is : 9600, get best_k: 6.925434695543721 best_b: -21.018480906346994, and the loss is: 4.680048857677338\n",
      "When time is : 9650, get best_k: 6.92978817380458 best_b: -21.04330304073431, and the loss is: 4.679394334571764\n",
      "When time is : 9700, get best_k: 6.934141652065438 best_b: -21.068125175121622, and the loss is: 4.678740131622217\n",
      "When time is : 9750, get best_k: 6.938495130326297 best_b: -21.092947309508936, and the loss is: 4.678086274077885\n",
      "When time is : 9800, get best_k: 6.9428486085871555 best_b: -21.11776944389625, and the loss is: 4.677432416533561\n",
      "When time is : 9850, get best_k: 6.947202086848014 best_b: -21.142591578283565, and the loss is: 4.676778558989226\n",
      "When time is : 9900, get best_k: 6.9515555651088725 best_b: -21.16741371267088, and the loss is: 4.676124701444903\n",
      "When time is : 9950, get best_k: 6.955909043369731 best_b: -21.192235847058193, and the loss is: 4.675470843900573\n"
     ]
    }
   ],
   "source": [
    "import random\n",
    "\n",
    "x_rm = x[:,5]\n",
    "min_loss = float('inf')  #正无穷\n",
    "\n",
    "\n",
    "trying_times=10000\n",
    "\n",
    "current_k = random.random()*200 - 100\n",
    "current_b = random.random()*200 - 100\n",
    "learning_rate = 1e-02\n",
    "\n",
    "for i in range(trying_times):\n",
    "   \n",
    "  \n",
    "    price_by_k_b = [price(r,current_k,current_b) for r in x_rm]\n",
    "    \n",
    "    current_loss = loss(y,price_by_k_b)\n",
    "    #print(current_loss)\n",
    "    \n",
    "    if current_loss < min_loss:\n",
    "        min_loss = current_loss\n",
    "        if i % 50 == 0: \n",
    "            print('When time is : {}, get best_k: {} best_b: {}, and the loss is: {}'.format(i, current_k, current_b, min_loss))\n",
    "        \n",
    "    k_gradient = partial_k(x_rm,y,price_by_k_b)\n",
    "    b_gradient = partial_b(y,price_by_k_b)\n",
    "    \n",
    "    current_k = current_k + (-1*k_gradient)*learning_rate\n",
    "    current_b = current_b + (-1*b_gradient)*learning_rate"
   ]
  },
  {
   "cell_type": "code",
   "execution_count": 172,
   "metadata": {},
   "outputs": [
    {
     "data": {
      "text/plain": [
       "<matplotlib.collections.PathCollection at 0x1ecedf33400>"
      ]
     },
     "execution_count": 172,
     "metadata": {},
     "output_type": "execute_result"
    },
    {
     "data": {
      "image/png": "[encoded data removed]",
      "text/plain": [
       "<Figure size 432x288 with 1 Axes>"
      ]
     },
     "metadata": {
      "needs_background": "light"
     },
     "output_type": "display_data"
    }
   ],
   "source": [
    "x_rm = x[:,5]\n",
    "k = 6.955909043369731 \n",
    "b = -21.192235847058193\n",
    "price_by_random_k_and_b = [price(r, k, b) for r in x_rm]\n",
    "\n",
    "plt.scatter(x[:,5],y) #实际值\n",
    "plt.scatter(x_rm, price_by_random_k_and_b)"
   ]
  },
  {
   "cell_type": "markdown",
   "metadata": {},
   "source": [
    "## 2、Finish the Solution Parse Part of Edit-Distance"
   ]
  },
  {
   "cell_type": "code",
   "execution_count": 137,
   "metadata": {},
   "outputs": [],
   "source": [
    "solution = {}"
   ]
  },
  {
   "cell_type": "code",
   "execution_count": 142,
   "metadata": {},
   "outputs": [],
   "source": [
    "from functools import lru_cache\n",
    "@lru_cache(maxsize=2**10)\n",
    "def edit_distance(string1, string2):\n",
    "    \n",
    "    if len(string1) == 0: return len(string2)\n",
    "    if len(string2) == 0: return len(string1)\n",
    "    \n",
    "    tail_s1 = string1[-1]\n",
    "    tail_s2 = string2[-1]\n",
    "    \n",
    "    candidates = [\n",
    "        (edit_distance(string1[:-1], string2) + 1, 'DEL {}'.format(tail_s1)),  # string 1 delete tail\n",
    "        (edit_distance(string1, string2[:-1]) + 1, 'ADD {}'.format(tail_s2)),  # string 1 add tail of string2\n",
    "    ]\n",
    "    \n",
    "    if tail_s1 == tail_s2:\n",
    "        both_forward = (edit_distance(string1[:-1], string2[:-1]) + 0, '')\n",
    "    else:\n",
    "        both_forward = (edit_distance(string1[:-1], string2[:-1]) + 1, 'SUB {} => {}'.format(tail_s1, tail_s2))\n",
    "\n",
    "    candidates.append(both_forward)\n",
    "    \n",
    "    min_distance, operation = min(candidates, key=lambda x: x[0])\n",
    "    \n",
    "    solution[(string1, string2)] = operation \n",
    "    \n",
    "    return min_distance"
   ]
  },
  {
   "cell_type": "code",
   "execution_count": 143,
   "metadata": {},
   "outputs": [
    {
     "data": {
      "text/plain": [
       "3"
      ]
     },
     "execution_count": 143,
     "metadata": {},
     "output_type": "execute_result"
    }
   ],
   "source": [
    "edit_distance('pyhtno','python')"
   ]
  },
  {
   "cell_type": "code",
   "execution_count": 144,
   "metadata": {},
   "outputs": [
    {
     "data": {
      "text/plain": [
       "{('p', 'p'): '',\n",
       " ('p', 'py'): 'ADD y',\n",
       " ('p', 'pyt'): 'ADD t',\n",
       " ('p', 'pyth'): 'ADD h',\n",
       " ('p', 'pytho'): 'ADD o',\n",
       " ('p', 'python'): 'ADD n',\n",
       " ('py', 'p'): 'DEL y',\n",
       " ('py', 'py'): '',\n",
       " ('py', 'pyt'): 'ADD t',\n",
       " ('py', 'pyth'): 'ADD h',\n",
       " ('py', 'pytho'): 'ADD o',\n",
       " ('py', 'python'): 'ADD n',\n",
       " ('pyh', 'p'): 'DEL h',\n",
       " ('pyh', 'py'): 'DEL h',\n",
       " ('pyh', 'pyt'): 'SUB h => t',\n",
       " ('pyh', 'pyth'): '',\n",
       " ('pyh', 'pytho'): 'ADD o',\n",
       " ('pyh', 'python'): 'ADD n',\n",
       " ('pyht', 'p'): 'DEL t',\n",
       " ('pyht', 'py'): 'DEL t',\n",
       " ('pyht', 'pyt'): '',\n",
       " ('pyht', 'pyth'): 'DEL t',\n",
       " ('pyht', 'pytho'): 'SUB t => o',\n",
       " ('pyht', 'python'): 'ADD n',\n",
       " ('pyhtn', 'p'): 'DEL n',\n",
       " ('pyhtn', 'py'): 'DEL n',\n",
       " ('pyhtn', 'pyt'): 'DEL n',\n",
       " ('pyhtn', 'pyth'): 'SUB n => h',\n",
       " ('pyhtn', 'pytho'): 'DEL n',\n",
       " ('pyhtn', 'python'): '',\n",
       " ('pyhtno', 'p'): 'DEL o',\n",
       " ('pyhtno', 'py'): 'DEL o',\n",
       " ('pyhtno', 'pyt'): 'DEL o',\n",
       " ('pyhtno', 'pyth'): 'DEL o',\n",
       " ('pyhtno', 'pytho'): '',\n",
       " ('pyhtno', 'python'): 'DEL o'}"
      ]
     },
     "execution_count": 144,
     "metadata": {},
     "output_type": "execute_result"
    }
   ],
   "source": [
    "solution"
   ]
  },
  {
   "cell_type": "code",
   "execution_count": 112,
   "metadata": {},
   "outputs": [],
   "source": [
    "def parse_operate(left,right,operate):\n",
    "    cmd = operate.split(' ')\n",
    "    if not cmd[0]: return left[:-1],right[:-1]\n",
    "    if cmd[0] == 'SUB':\n",
    "        return left[:-1]+cmd[3],right\n",
    "    elif cmd[0] == 'ADD':\n",
    "        return left+cmd[1],right\n",
    "    else:\n",
    "        return left[:-1],right "
   ]
  },
  {
   "cell_type": "code",
   "execution_count": 123,
   "metadata": {},
   "outputs": [],
   "source": [
    "def solution_edit_distance(left,right,solution):\n",
    "    r_left = left\n",
    "    r_right = right   \n",
    "    solution_result = []\n",
    "    while(True):\n",
    "        if (r_left,r_right) in solution.keys(): \n",
    "            operate=solution[(r_left,r_right)]\n",
    "        elif r_left[-1] == r_right[-1]:             \n",
    "            r_left = r_left[:-1]\n",
    "            r_right = r_right[:-1]\n",
    "            continue\n",
    "        else:\n",
    "            print('ERROR: solution not fund:({},{})'.format(r_left,r_right))\n",
    "            break\n",
    "        \n",
    "        r_left,r_right = parse_operate(r_left,r_right,operate)\n",
    "        #print(r_left,r_right)\n",
    "        solution_result.append(operate)\n",
    "        if r_left == r_right: return solution_result\n",
    "        "
   ]
  },
  {
   "cell_type": "code",
   "execution_count": 148,
   "metadata": {},
   "outputs": [
    {
     "data": {
      "text/plain": [
       "'DEL o==>SUB t => o==>ADD t'"
      ]
     },
     "execution_count": 148,
     "metadata": {},
     "output_type": "execute_result"
    }
   ],
   "source": [
    "'==>'.join([str(x) for x in solution_edit_distance('pyhtno','python',solution) if x])"
   ]
  },
  {
   "cell_type": "code",
   "execution_count": 146,
   "metadata": {},
   "outputs": [
    {
     "data": {
      "text/plain": [
       "4"
      ]
     },
     "execution_count": 146,
     "metadata": {},
     "output_type": "execute_result"
    }
   ],
   "source": [
    "edit_distance('bieji','beijing')"
   ]
  },
  {
   "cell_type": "code",
   "execution_count": 147,
   "metadata": {},
   "outputs": [
    {
     "data": {
      "text/plain": [
       "'ADD g==>ADD n==>DEL e==>ADD e'"
      ]
     },
     "execution_count": 147,
     "metadata": {},
     "output_type": "execute_result"
    }
   ],
   "source": [
    "'==>'.join([str(x) for x in solution_edit_distance('bieji','beijing',solution) if x])"
   ]
  },
  {
   "cell_type": "markdown",
   "metadata": {},
   "source": [
    "## 3、Answer following questions:\n",
    "1、Why do we need dynamic programming? What's the difference of dynamic programming and previous talked search problme?\n",
    "当搜索问题有很多重复的子问题时，动态规划就能很好的发挥作用\n",
    "\n",
    "2、Why do we still need dynamic programming? Why not we train a machine learning to fit a function which could get the right answer based on inputs?\n",
    "\n",
    "\n",
    "3、Can you catch up at least 3 problems which could solved by Dynamic Programming?\n",
    "\n",
    "五子棋、路径规划\n",
    "\n",
    "4、Can you catch up at least 3 problems wich could sloved by Edit Distance?\n",
    "\n",
    "单词纠错、文本相似度\n",
    "\n",
    "5、Please summarize the three main features of Dynamic Programming, and make a concise explain for each feature.\n",
    "\n",
    "    (1)、overlapping subproblems 很多重复的子问题\n",
    "    (2)、overlapping computing saved in a table 把重复的计算用一个表存起来\n",
    "    (3)、parse solution 解析存储的结果\n",
    "    \n",
    "6、What's the disadvantages of Dynamic Programming? (You may need search by yourself in Internet)\n",
    "\n",
    "    (1).No general formation of Dynamic Program is available; every problem has to be solving in its own way.\n",
    "    (2).Dividing problem in sub problem and storing inter mediate results consumes memory.\n"
   ]
  },
  {
   "cell_type": "code",
   "execution_count": null,
   "metadata": {},
   "outputs": [],
   "source": []
  }
 ],
 "metadata": {
  "kernelspec": {
   "display_name": "Python 3",
   "language": "python",
   "name": "python3"
  },
  "language_info": {
   "codemirror_mode": {
    "name": "ipython",
    "version": 3
   },
   "file_extension": ".py",
   "mimetype": "text/x-python",
   "name": "python",
   "nbconvert_exporter": "python",
   "pygments_lexer": "ipython3",
   "version": "3.7.0"
  }
 },
 "nbformat": 4,
 "nbformat_minor": 2
}
